{
  "nbformat": 4,
  "nbformat_minor": 0,
  "metadata": {
    "colab": {
      "name": "Rede Neurais-sonar.ipynb",
      "provenance": [],
      "include_colab_link": true
    },
    "kernelspec": {
      "name": "python3",
      "display_name": "Python 3"
    }
  },
  "cells": [
    {
      "cell_type": "markdown",
      "metadata": {
        "id": "view-in-github",
        "colab_type": "text"
      },
      "source": [
        "<a href=\"https://colab.research.google.com/github/PauloAAlmeida/Python/blob/master/Rede_Neurais_sonar.ipynb\" target=\"_parent\"><img src=\"https://colab.research.google.com/assets/colab-badge.svg\" alt=\"Open In Colab\"/></a>"
      ]
    },
    {
      "cell_type": "markdown",
      "metadata": {
        "id": "JjwA3MULbxQd"
      },
      "source": [
        "# Redes Neurais --------------------------------\n",
        "\n",
        "### Base: Sonar, Mines vs. Rocks\n",
        "\n",
        "https://archive.ics.uci.edu/ml/datasets/Connectionist+Bench+%28Sonar,+Mines+vs.+Rocks%29\n",
        "\n",
        "\n",
        "\n",
        "\n"
      ]
    },
    {
      "cell_type": "code",
      "metadata": {
        "id": "J9RK7eTxIIxX"
      },
      "source": [
        "\n",
        "import pandas as pd\n",
        "from sklearn.model_selection import train_test_split\n",
        "from sklearn.metrics import confusion_matrix, classification_report\n",
        "from sklearn.neural_network import MLPClassifier\n",
        "from sklearn.preprocessing import LabelEncoder\n",
        "import numpy as np\n",
        "\n",
        "np.set_printoptions(precision=2)\n",
        "\n"
      ],
      "execution_count": 10,
      "outputs": []
    },
    {
      "cell_type": "markdown",
      "metadata": {
        "id": "KVvLawJScG23"
      },
      "source": [
        "### Carga dos dados\n"
      ]
    },
    {
      "cell_type": "code",
      "metadata": {
        "id": "7rTCrfY9Hk2F",
        "outputId": "2c0246b6-855a-484b-a688-1b00517389de",
        "colab": {
          "resources": {
            "http://localhost:8080/nbextensions/google.colab/files.js": {
              "data": "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",
              "ok": true,
              "headers": [
                [
                  "content-type",
                  "application/javascript"
                ]
              ],
              "status": 200,
              "status_text": ""
            }
          },
          "base_uri": "https://localhost:8080/",
          "height": 73
        }
      },
      "source": [
        "from google.colab import files\n",
        "uploaded = files.upload()\n",
        "sonar = pd.read_excel('sonar.all-data.xlsx', sheet_name=0) \n",
        "from google.colab import drive\n",
        "\n",
        "\n"
      ],
      "execution_count": 11,
      "outputs": [
        {
          "output_type": "display_data",
          "data": {
            "text/html": [
              "\n",
              "     <input type=\"file\" id=\"files-c960bcb9-9e6d-493a-96a4-42a530d3685d\" name=\"files[]\" multiple disabled\n",
              "        style=\"border:none\" />\n",
              "     <output id=\"result-c960bcb9-9e6d-493a-96a4-42a530d3685d\">\n",
              "      Upload widget is only available when the cell has been executed in the\n",
              "      current browser session. Please rerun this cell to enable.\n",
              "      </output>\n",
              "      <script src=\"/nbextensions/google.colab/files.js\"></script> "
            ],
            "text/plain": [
              "<IPython.core.display.HTML object>"
            ]
          },
          "metadata": {
            "tags": []
          }
        },
        {
          "output_type": "stream",
          "text": [
            "Saving sonar.all-data to sonar.all-data\n"
          ],
          "name": "stdout"
        }
      ]
    },
    {
      "cell_type": "code",
      "metadata": {
        "id": "RliYwZmLHndr"
      },
      "source": [
        "X = sonar.iloc[:,0:(sonar.shape[1] - 1)]\n",
        "\n",
        "le = LabelEncoder()\n",
        "y = le.fit_transform(sonar.iloc[:,(sonar.shape[1] - 1)])\n",
        "\n",
        "class_names = le.classes_\n",
        "\n",
        "\n",
        "X_train, X_test, y_train, y_test = train_test_split(X, y, test_size=0.1, random_state=0)\n",
        "\n"
      ],
      "execution_count": 12,
      "outputs": []
    },
    {
      "cell_type": "markdown",
      "metadata": {
        "id": "DWsQS0xQdDmV"
      },
      "source": [
        "### MLP com uma camada oculta\n",
        "\n",
        "O bloco a seguir testa a rede neural com um camada oculta com 100 neurônios. \n",
        "\n",
        "São totalizados 6.100 pesos diferentes que precisarão ser ajustados na fase de treinamento.\n",
        "\n",
        "O parâmetro solver='lbfgs' foi escolhido por ser mais adequado para treinamento com bases pequenas (menores que alguns milhares de registros)."
      ]
    },
    {
      "cell_type": "code",
      "metadata": {
        "id": "irfrsFDuchJC",
        "outputId": "64c63b14-fba6-47e3-ded2-563cea203493",
        "colab": {
          "base_uri": "https://localhost:8080/",
          "height": 329
        }
      },
      "source": [
        "# Rede Perceptron Multicamadas (MLP):  Configuração default otimizando a função log-loss\n",
        "# uma camada oculta com 100 neurônios.\n",
        "\n",
        "mlp = MLPClassifier(solver='lbfgs', random_state=0)\n",
        "mlp.fit(X_train, y_train)\n",
        "y_pred = mlp.predict(X_test)\n",
        "\n",
        "\n",
        "print(\"Camadas da rede: {}\".format(mlp.n_layers_))\n",
        "print(\"Neurônios na camada oculta: {}\".format(mlp.hidden_layer_sizes))\n",
        "print(\"Neurônios na camada de saída: {}\".format(mlp.n_outputs_))\n",
        "print(\"Pesos na camada de entrada: {}\".format(mlp.coefs_[0].shape))\n",
        "print(\"Pesos na camada oculta: {}\".format(mlp.coefs_[1].shape))\n",
        "\n",
        "print(\"Acurácia da base de treinamento: {:.2f}\".format(mlp.score(X_train, y_train)))\n",
        "print(\"Acurácia da base de teste: {:.2f}\".format(mlp.score(X_test, y_test)))\n",
        "\n",
        "\n",
        "print(classification_report(y_test, y_pred, target_names=class_names))\n",
        "\n",
        "# Calcula a matriz de confusão\n",
        "cnf_matrix = confusion_matrix(y_test, y_pred)\n",
        "print(cnf_matrix)"
      ],
      "execution_count": 13,
      "outputs": [
        {
          "output_type": "stream",
          "text": [
            "Camadas da rede: 3\n",
            "Neurônios na camada oculta: (100,)\n",
            "Neurônios na camada de saída: 1\n",
            "Pesos na camada de entrada: (60, 100)\n",
            "Pesos na camada oculta: (100, 1)\n",
            "Acurácia da base de treinamento: 0.53\n",
            "Acurácia da base de teste: 0.62\n",
            "              precision    recall  f1-score   support\n",
            "\n",
            "           M       0.60      0.33      0.43         9\n",
            "           R       0.62      0.83      0.71        12\n",
            "\n",
            "    accuracy                           0.62        21\n",
            "   macro avg       0.61      0.58      0.57        21\n",
            "weighted avg       0.61      0.62      0.59        21\n",
            "\n",
            "[[ 3  6]\n",
            " [ 2 10]]\n"
          ],
          "name": "stdout"
        }
      ]
    },
    {
      "cell_type": "markdown",
      "metadata": {
        "id": "DgtHXhV3cqIf"
      },
      "source": [
        "### MLP com duas camadas ocultas\n",
        "\n",
        "O bloco a seguir testa a rede neural com duas camadas ocultas. \n",
        "\n",
        "A primeira camada possui 100 neurônios, enquanto a segunda camada possui 60 neurônios. \n",
        "\n",
        "São totalizados 12.100 pesos diferentes que precisarão ser ajustados na fase de treinamento.\n",
        "\n",
        "Com essa rede será possível observar que aumentar arbitrariamente a dimensão da sua rede neural não garante um aumento arbitrário da performance do modelo."
      ]
    },
    {
      "cell_type": "code",
      "metadata": {
        "id": "zF-9v4LxclKn",
        "outputId": "5089cd4f-01e2-423d-f0c0-2a50a1ab2949",
        "colab": {
          "base_uri": "https://localhost:8080/",
          "height": 329
        }
      },
      "source": [
        "\n",
        "mlp = MLPClassifier(solver='lbfgs', random_state=0, hidden_layer_sizes=[100, 60])\n",
        "mlp.fit(X_train, y_train)\n",
        "y_pred = mlp.predict(X_test)\n",
        "\n",
        "\n",
        "print(\"Camadas da rede: {}\".format(mlp.n_layers_))\n",
        "print(\"Neurônios na camada oculta: {}\".format(mlp.hidden_layer_sizes))\n",
        "print(\"Neurônios na camada de saída: {}\".format(mlp.n_outputs_))\n",
        "print(\"Pesos na camada de entrada: {}\".format(mlp.coefs_[0].shape))\n",
        "print(\"Pesos na camada oculta: {}\".format(mlp.coefs_[1].shape))\n",
        "\n",
        "print(\"Acurácia da base de treinamento: {:.2f}\".format(mlp.score(X_train, y_train)))\n",
        "print(\"Acurácia da base de teste: {:.2f}\".format(mlp.score(X_test, y_test)))\n",
        "\n",
        "print(classification_report(y_test, y_pred, target_names=class_names))\n",
        "\n",
        "cnf_matrix = confusion_matrix(y_test, y_pred)\n",
        "print(cnf_matrix)\n"
      ],
      "execution_count": 14,
      "outputs": [
        {
          "output_type": "stream",
          "text": [
            "Camadas da rede: 4\n",
            "Neurônios na camada oculta: [100, 60]\n",
            "Neurônios na camada de saída: 1\n",
            "Pesos na camada de entrada: (60, 100)\n",
            "Pesos na camada oculta: (100, 60)\n",
            "Acurácia da base de treinamento: 0.58\n",
            "Acurácia da base de teste: 0.57\n",
            "              precision    recall  f1-score   support\n",
            "\n",
            "           M       0.50      0.22      0.31         9\n",
            "           R       0.59      0.83      0.69        12\n",
            "\n",
            "    accuracy                           0.57        21\n",
            "   macro avg       0.54      0.53      0.50        21\n",
            "weighted avg       0.55      0.57      0.53        21\n",
            "\n",
            "[[ 2  7]\n",
            " [ 2 10]]\n"
          ],
          "name": "stdout"
        }
      ]
    },
    {
      "cell_type": "markdown",
      "metadata": {
        "id": "Kj8hmXCKd51q"
      },
      "source": [
        "### *Overfitting* por excesso de neurônios\n",
        "\n",
        "A forma mais eficiente para se determinar o número de neurônios na camada oculta é por busca sistemática. Um artigo interessante que ilustra diversas heurísticas para resolver o problema pode ser visto em \n",
        "\n",
        " D. Stathakis (2009) *How many hidden layers and nodes?*, **International Journal of Remote Sensing**, 30:8, 2133-2147, DOI: 10.1080/01431160802549278 \n",
        " \n",
        " Entretanto, um ponto de partida inicial muito utilizado corresponde ao:\n",
        " \n",
        " (num_entradas + num_saídas) / 2.\n",
        " \n",
        " Note que a rede manteve a mesma performance das topologias anteriores."
      ]
    },
    {
      "cell_type": "code",
      "metadata": {
        "id": "g12Dkr7WgsPN",
        "outputId": "3a419616-00fd-4182-a880-cd60b67b827a",
        "colab": {
          "base_uri": "https://localhost:8080/",
          "height": 329
        }
      },
      "source": [
        "mlp = MLPClassifier(solver='lbfgs', random_state=0, hidden_layer_sizes=[31])\n",
        "mlp.fit(X_train, y_train)\n",
        "y_pred = mlp.predict(X_test)\n",
        "\n",
        "\n",
        "print(\"Camadas da rede: {}\".format(mlp.n_layers_))\n",
        "print(\"Neurônios na camada oculta: {}\".format(mlp.hidden_layer_sizes))\n",
        "print(\"Neurônios na camada de saída: {}\".format(mlp.n_outputs_))\n",
        "print(\"Pesos na camada de entrada: {}\".format(mlp.coefs_[0].shape))\n",
        "print(\"Pesos na camada oculta: {}\".format(mlp.coefs_[1].shape))\n",
        "\n",
        "print(\"Acurácia da base de treinamento: {:.2f}\".format(mlp.score(X_train, y_train)))\n",
        "print(\"Acurácia da base de teste: {:.2f}\".format(mlp.score(X_test, y_test)))\n",
        "\n",
        "print(classification_report(y_test, y_pred, target_names=class_names))\n",
        "\n",
        "cnf_matrix = confusion_matrix(y_test, y_pred)\n",
        "print(cnf_matrix)\n"
      ],
      "execution_count": 16,
      "outputs": [
        {
          "output_type": "stream",
          "text": [
            "Camadas da rede: 3\n",
            "Neurônios na camada oculta: [31]\n",
            "Neurônios na camada de saída: 1\n",
            "Pesos na camada de entrada: (60, 31)\n",
            "Pesos na camada oculta: (31, 1)\n",
            "Acurácia da base de treinamento: 0.58\n",
            "Acurácia da base de teste: 0.48\n",
            "              precision    recall  f1-score   support\n",
            "\n",
            "           M       0.44      0.89      0.59         9\n",
            "           R       0.67      0.17      0.27        12\n",
            "\n",
            "    accuracy                           0.48        21\n",
            "   macro avg       0.56      0.53      0.43        21\n",
            "weighted avg       0.57      0.48      0.41        21\n",
            "\n",
            "[[ 8  1]\n",
            " [10  2]]\n"
          ],
          "name": "stdout"
        }
      ]
    },
    {
      "cell_type": "markdown",
      "metadata": {
        "id": "5rVWAueVdrJz"
      },
      "source": [
        "### Ajustamento dos dados\n",
        "\n",
        "As redes neurais a seguir irão testar a hipótese de que uma MLP é robusta quanto a dados não normalizados. \n",
        "\n",
        "Os dados serão padronizados pelo Z-score.\n",
        "\n",
        "A normalização dos dados não irá acarretar em nenhume melhoria da rede."
      ]
    },
    {
      "cell_type": "code",
      "metadata": {
        "id": "UClzanE1IfYR",
        "outputId": "d4ca2ab2-ed6d-406a-b3e4-bfdbf0b282e6",
        "colab": {
          "base_uri": "https://localhost:8080/",
          "height": 87
        }
      },
      "source": [
        "# Calcula a média e o desvio padrão de cada atributo da base de treinamento\n",
        "mean_on_train = X_train.mean(axis=0)\n",
        "std_on_train = X_train.std(axis=0)\n",
        "\n",
        "# Normaliza os atributos pela norma Z = (X - média) / desvio padrão\n",
        "# afterwards, mean=0 and std=1\n",
        "X_train_scaled = (X_train - mean_on_train) / std_on_train\n",
        "# usa a esma transformação nos dados de teste\n",
        "X_test_scaled = (X_test - mean_on_train) / std_on_train\n",
        "\n",
        "\n",
        "# A rede atinge o número máximo de iterações, mas não converge.\n",
        "mlp = MLPClassifier(solver='lbfgs', hidden_layer_sizes=[31], random_state=0)\n",
        "mlp.fit(X_train_scaled, y_train)\n",
        "print(\"Acurácia da base de treinamento: {:.2f}\".format(mlp.score(X_train_scaled, y_train)))\n",
        "print(\"Acurácia da base de teste: {:.2f}\".format(mlp.score(X_test_scaled, y_test)))\n",
        "\n",
        "# Vamos aumentar o número máximo de iterações\n",
        "mlp = MLPClassifier(solver='lbfgs', hidden_layer_sizes=[31], max_iter=1000, random_state=0)\n",
        "mlp.fit(X_train_scaled, y_train)\n",
        "print(\"Acurácia da base de treinamento: {:.2f}\".format(mlp.score(X_train_scaled, y_train)))\n",
        "print(\"Acurácia da base de teste: {:.2f}\".format(mlp.score(X_test_scaled, y_test)))\n"
      ],
      "execution_count": 17,
      "outputs": [
        {
          "output_type": "stream",
          "text": [
            "Acurácia da base de treinamento: 1.00\n",
            "Acurácia da base de teste: 0.67\n",
            "Acurácia da base de treinamento: 1.00\n",
            "Acurácia da base de teste: 0.67\n"
          ],
          "name": "stdout"
        }
      ]
    }
  ]
}